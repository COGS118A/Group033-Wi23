{
 "cells": [
  {
   "cell_type": "markdown",
   "metadata": {},
   "source": [
    "# COGS 118A - Popularity of Games Predictions"
   ]
  },
  {
   "cell_type": "markdown",
   "metadata": {},
   "source": [
    "# Names\n",
    "\n",
    "- Chenxi Li (A16341810)\n",
    "- Jialong Guo (A15851883)\n",
    "- Gege Bei(A16356724)\n",
    "- Sikai Liang(A16839298)\n",
    "- Jinyi Zhao (A16315154)"
   ]
  },
  {
   "cell_type": "markdown",
   "metadata": {},
   "source": [
    "# Abstract \n",
    "\n",
    "The problem of our project is: ***does a specific game have high popularity?*** The popularity of a game could be quite abstract, since there are plenty of criteria that could be used to define whether a game has high popularity or low popularity. In our project, we will be using game ratings as the indicator of whether a game has high or low popularity, and the goal of our project is to create a relatively objective universal model to predict the popularity status of a new game that is not included in our acquired datasets below. The **algorithms** that we will be using are **logistic regression, KNN, decision tree, and random forest**. We will use feature selections to choose the variables that are most important. The game ratings represent the variables that we will predict, since we use the game rating to define high/low popularity of games. Moreover, the game ratings and the supported systems(e.g. windows) will be represented as binary variables for our models. In addition to these variables, the variables such as positive ratio, user reviews, and discount will be statistical variables, and the statistical variables and the supported systems will be the data that we used to predict the gaming ratings(popularity). We will divide this data into training sets (validation set), and test sets to create and train our model to fit as closely as possible to the dataset. Finally, the performance will be measured using the f1 score, accuracy, recall, cross-validation, and ROC-AUC curve."
   ]
  },
  {
   "cell_type": "markdown",
   "metadata": {},
   "source": [
    "# Background\n",
    "\n",
    "Fill in the background and discuss the kind of prior work that has gone on in this research area here. **Use inline citation** to specify which references support which statements.  You can do that through HTML footnotes (demonstrated here). I used to reccommend Markdown footnotes (google is your friend) because they are simpler but recently I have had some problems with them working for me whereas HTML ones always work so far. So use the method that works for you, but do use inline citations.\n",
    "\n",
    "Here is an example of inline citation. After government genocide in the 20th century, real birds were replaced with surveillance drones designed to look just like birds<a name=\"lorenz\"></a>[<sup>[1]</sup>](#lorenznote). Use a minimum of 2 or 3 citations, but we prefer more <a name=\"admonish\"></a>[<sup>[2]</sup>](#admonishnote). You need enough citations to fully explain and back up important facts. \n",
    "\n",
    "Remeber you are trying to explain why someone would want to answer your question or why your hypothesis is in the form that you've stated. \n",
    "\n",
    "\n",
    "Personal Computer (PC) video games, as one of the primary forms of entertainment of the public, have long been drawing people’s attention due to their highly engaging and versatile nature. According to the latest gaming statistics, the global video game industry has accumulated a tremendous consumer base (ie. approximately 38% of the worldwide population has video gaming experiences), forming a total market size, measured by yielded revenues, of approximately $106.8 billions in 2023<a name=\"lorenz\"></a>[<sup>[1]</sup>](#lorenznote).\n",
    "\n",
    "Moreover, the global video game industry has still been undergoing a developmental stage of rapid growth due to high market demand. The market size of the global video game industry, as the statistics indicated, is estimated to increase 9.4% over the year of 2023 and reach approximately 135 billion dollars by 2025, in which the PC gaming sector alone will accumulate around $46.7 billion<a name=\"lorenz\"></a>[<sup>[2]</sup>](#lorenznote). Through this tremendous consumer base and the capability of creating immersive, captivating worlds that enable individuals to explore various cultures and experiences, the video game industry undeniably has crucial impacts on people’s entertainment and social & cultural trends in the modern era.\n",
    "\n",
    "\n",
    "Unlike the video game market back in early 2000s where the majority sales occurred at retail stores, the digital distribution platforms, such as Steam, GamersGate, Microsoft Store, EA Origin, and so forth, have been contributing to the majority (approximately 83%) of the global video game sales nowadays<a name=\"lorenz\"></a>[<sup>[3]</sup>](#lorenznote). Steam, as the top digital distribution platform in terms of video game sales and number of users, for instance, accounts for approximately 50% to 70% of the entire PC video game downloads as well as 75% of the global vertical market<a name=\"lorenz\"></a>[<sup>[4]</sup>](#lorenznote). Such digital distribution platforms employ a series of marketing and sale strategies/practices that satisfy their active users’ demand as well as maximize their revenues and market shares. Among such business practices, building and employing a reliable, efficient model, which is capable of yielding sound estimations of popularity of video games, play an essential role in optimizing business operations. Therefore, in order to not only acquire a complete knowledge of the future development of the video game industry but also generate accurate recommendations of the products (ie. games), which ensures promising sales, it is absolutely necessary to establish an effective evaluation mechanism as mentioned above. However, predicting the popularity of the games published can be a vague and extremely difficult task due to the fact that various quantitative factors, such as the game prices, users’ playtimes, number of downloads, etc., could potentially have significant impacts on the popularity of games. Therefore, it is pivotal to predict the popularity of games based on a specified, subjective metric and incorporate the aforementioned quantitative factors in the analysis. \n",
    "\n",
    "\n",
    "Quite a few prior studies have gone on in the research area of the popularity prediction of  PC video games. The “Machine Learning for Predicting Success of Video Games,” for instance, investigates & analyzes data, which are acquired through Steam Spy (“a service that tracks the number of owners of each game” and Steam Charts (“a database that collects data about concurrent players”), including game price, supported language, price overview, reviews, and so forth (numerous data are being analyzed in this research, and those that are also involved in the analysis of this project is listed here). <sup>[5](#MichalNotes1)</sup> According to the author, success of the game is defined as  “the number of owners after two months since release for the data from Steam Spy” as well as “the average number of concurrent players in two months after release for Steam Charts”. <sup>[5](#MichalNotes1)</sup> In total, data of 9780 games are employed in the research, which are then cleaned and restructured through raw data processing. Besides, comparison between the data acquired from Steam Charts and Steam Spy is performed for further analysis. As discussed in the experiment section of this paper, the data is split into training, validation, and test set, and preprocessing dependent on these splits is then conducted individually. It is worth mentioning that cross-validation is not employed in the experiment, since it, according to the author, will lead to the issue of “predicting old games from new ones in numerous cases”.  <sup>[5](#MichalNotes3)</sup> When constructing the predictive models, the author employed regression and binary classification with three different settings “depending on the threshold where games are split (ie. >1, >10, >100 players)”: regression aims to predict a numeric value of the exact number of average concurrent players, and binary classification separates games into two categories based on the original value of “Players” (ie. a continuous class attribute running from 0 to 135300). <sup>[5](#MichalNotes4)</sup>  Five algorithms are employed in the regression stage: linear model, recursive partitioning and regression tree, random forest, Gaussian process, and support vector machine. According to the author, data splits contain 214 attributes, and Chi-squared is utilized to evaluate the importance of all attributes. Based on the average players prediction results via regression, random forest scores the best results with approximately 72% root relative squared error and 0.7 correlation, closely followed by support vector machine, which yields 74% root relative squared error and 0.7 correlation.  <sup>[5](#MichalNotes5)</sup> However, both aforementioned algorithms encounter difficulty with under-estimating games with higher numbers of average concurrent players, yet this is “ an understandable error as games may gain popularity by investing into promotions around release, attracting the interest of content creators after release etc.”  <sup>[5](#MichalNotes6)</sup> On the other hand, classification aims to detect games, which attained more average concurrent players than a certain threshold. Also, five algorithms are employed in the regression stage: recursive partitioning and regression tree, general linear model, random forest, support vector machine, and naive bayes. Based on the results, the baseline accuracy for predicting games with more than 1, 10, and 100 players on average are respectively as follows: 59.3%, 79.1%, and 95%. In predicting games with more than 100 players on average, the support vector machine scores the highest precision, closely followed by random forest, which has relatively higher recall than SVM.<sup>[5](#MichalNotes7)</sup> \n",
    "\n",
    "In conclusion, regression demonstrates a strong correlation between the average number of concurrent players and core game features. Furthermore, detecting the more successful game is “possible with relatively high precision but low recall.” However, the accuracy of predictions is higher for certain games yet lower for others. As a result, a subset of games that covers one third of the test data is employed through limiting it to games from publishers who released at least two games previously. The prediction of games in this subset is shown to be relatively more reliable and accurate. \n",
    "\n",
    "\n",
    "Even though this prior research focuses on the “success” of PC games released on Steam, it is still highly relevant to our project and provides us with quite a few critical insights as it employs certain data and machine learning techniques that will also be incorporated in our project. Besides, based on numerous real-world instances, “success” and “popularity” of games are highly associated with each other: those that gain high popularity among the customers often tend to be the “successful” games as defined in the aforementioned research. Our project employs a similar approach (ie. establishing an evaluation mechanism that accurately and objectively predicts the popularity of PC video games on Steam based on based on the estimated rating of the game), examining a collection of statistical information of the game, including the game's supportive system, required age, sale information (ie. price & discount), and customers' review information & playtime as well as the number of users who downloaded the game and employing the machine learning techniques of logistic regression, random forest, decision tree, and KNN. Through this project, we aim to facilitate the customer targeting process of the digital PC video game distribution platforms, aiding them with more time-saving, accurate user-specific video game popularity prediction algorithms, as well as provide future potential customers with objective popularity feedback. \n"
   ]
  },
  {
   "cell_type": "markdown",
   "metadata": {},
   "source": [
    "# Problem Statement\n",
    "\n",
    "How can we accurately predict the rating of a new game by constructing algorithm models like logistic regression/KNN/random forest etc. based on metrics of the game's operational system, discount, player’s average playtime, average owner numbers and the price it listed?\n",
    "\n",
    "\n",
    "We plan to quality the popularity of a game as reaching to the level of mostly positive in its Steam game rating record. The result should be discrete instead of continuous, as shown by the separate meanings behind each individual level.  The result should also be measurable by graphing out using the classification model. The ROC curve/F1 score/precision and other metrics will likely show us the accuracy of prediction and indicate the effectiveness of our classification model. Lastly, the problem will likely be replicable since the model is dependent on time and any change on the dataset (e.g. the appearance of a new factor will likely alter the regression of our model). Predicting the popularity of a game can have several significant implications for game developers, publishers, and marketers. Creating games requires a significant investment of both time and money. By predicting the popularity of a new game, game developers and publishers can make informed choices regarding how much to spend on advertising and which features to prioritize during the development process. Estimating the potential success of a new game can offer game developers and publishers an edge over their competitors. By projecting which features or gameplay elements will be favored by players, they can design a game that distinguishes itself from other games in the market and draws in a substantial player base."
   ]
  },
  {
   "cell_type": "markdown",
   "metadata": {},
   "source": [
    "# Data\n",
    "\n",
    "Link to the dataset: 1. https://www.kaggle.com/datasets/antonkozyriev/game-recommendations-on-steam             \n",
    "                     2.  www.kaggle.com/datasets/nikdavis/steam-store-games?resource=download&select=steam.csv\n",
    "\n",
    "We are using two datasets for our analysis: Game Recommendations on Steam and Steam Store Games. The first dataset contains 46,068 unique observations and 13 variables, while the second dataset contains 27,033 unique observations and 18 variables. Both datasets collected data from games on Steam but include different variables. We combined the two datasets by filtering the same IDs using the app ID column. The newly formed dataset has around 18,000 data points and 25 variables. To avoid redundancy, we dropped several overlapping variables, such as release date, leaving us with approximately 15 usable variables.\n",
    "\n",
    "An observation in our dataset consists of:\n",
    "\n",
    "- the name of a specific game\n",
    "- date released\n",
    "- which PC system supports the game(win/mac/linux): it can be one/two/all and stores as Boolean variable\n",
    "- game rating(categorical variable such as positive/very positive/negative)\n",
    "- positive ratio: percentage of positive feedbacks\n",
    "- user reviews: amount of user reviews left\n",
    "- price of a specific game\n",
    "- average and median play time of a game\n",
    "- game developer/game publisher/game categories/ game genres\n",
    "\n",
    "Feature selection: During the data cleaning and wrangling, we will select a subset of the most relevant features. The critical variables would be rating for games, user reviews, price, average play time, average/median play time of a game, discount, supported system, average owners. For categorical variables like game developers, and game genres, we will drop those datapoints, since they have too many different values stored in one column(over 100). It may not be practical to use one hot encoding, which can lead to a very large number of columns and cause problems such as high computational cost. Also, the supported system variables(win, mac, linux) have already been one-hot-coding with ‘True’ and ‘False’, we will change it into 0/1 for each column.\n",
    "\n",
    "\n",
    "Our dataset includes a categorical variable representing game ratings, which has 9 different categories ranging from overwhelmingly positive to overwhelmingly negative. To simplify the data and make it more manageable, we plan to convert this variable into a binary variable with values of 0 or 1. Specifically, we will set games with overwhelmingly positive or very positive ratings as 1, and all others as 0. Our decision to use these ratings as a threshold is based on research we conducted on the Steam scoring system, which revealed that those two ratings are typically given to games with positive feedback ratings of 85% or higher. We believe that this threshold is a relatively accurate way to assess a game's popularity based on user reception.\n",
    "\n",
    "To address the class imbalance issues, we will use advanced algorithms, such as Cost-Sensitive Learning, Adaptive Boosting, and Random Forest, and use appropriate evaluation metrics to better evaluate the model's performance on both classes like precision, recall, and F1 score."
   ]
  },
  {
   "cell_type": "markdown",
   "metadata": {},
   "source": [
    "# Proposed Solution\n",
    "\n",
    "We will be using feature selections to filter out the variables that are considered to be less important, therefore, the variables that are left will be the variables that are considered to be more related to what we will predict. Our proposed solution for the problem of our project is to use 4 different algorithms, including logistic regression, KNN, decision tree, and random forest to create 4 different models, we will transform the game rating variables into binary variables, and we will be using “very positive” which means if a game has gaming rating of or above “very positive”, it will be 1, and if a game has game rating below “very positive”, it will be 0, and this will be the y-axis of our models. The variables other than the game rating will be on the x-axis, since they are the variables that we need to use to predict the popularity of games. We will use the metric systems to evaluate the models, and select the best model among the 4 models. Finally, we will use the selected best model to predict the popularity status of a new game that is not included in our acquired datasets.\n",
    "\n",
    "- Logistic regression:  logistic regression could be expressed as f(x;w,b)={+1 if 1/(1+e^-(wTx+b))>=0.5, 0 otherwise), just like what the formula illustrates, logistic regression will output a binary result, which is 1 or -1. We will distribute the data into  training sets and test sets, and we will use the training set to fit into our logistic regression algorithm, and then we will be using the test set to evaluate the performance of our logistic regression algorithm. After the logistic regression model is trained and the performance has been evaluated, we can make predictions on the popularity status of a new game by calculating the probability using the logistic function, and finally we could compare the results with the threshold, which is typically 0.5, to classify the final prediction, which would be 1 or 0, 1 represents the game has high popularity, and 0 represents the game has low popularity.\n",
    "\n",
    "\n",
    "- KNN: KNN is an algorithm that could be used for classification problems, it is a non-parametric model. We will split the dataset into training sets and test sets, then we would use cross-validation to determine the hyperparameter, which is the number of neighbors K. Moreover, we will determine the k nearest neighbors by calculating the distance(e.g.euclidean distance, manhattan distance) between the data point in training sets and the data point in test sets. Then the datapoint in the test set will be classified to the class that is most common among the K neighbors. KNN is quite a simple algorithm, however, it has drawbacks when encountering a large dataset, since it needs to calculate the distance between all pairs of the data points in the training sets.\n",
    "\n",
    "\n",
    "- Decision tree: Decision tree is a tree-like model that contains nodes, representing the decision points; branches,representing the variety of decision paths; and leaves, representing the final outcome. Decision trees could be used for classification problems. We will split the dataset into training sets and test sets, and we will create the tree by using the training data. Firstly, we will need to do the selection of a root node, which is our project problem, “does a specific game have high popularity?”, and the tree will be built recursively through dividing the data into subsets based on the selected root node, then the process will continue until the final outcome is predicted. Decision tree is quite intuitive, however, it is also prone to overfit, so proper tree pruning might be necessary.\n",
    "\n",
    "\n",
    "- Random forest: Random forest is an ensemble learning algorithm that contains multiple decision trees. It could also be used for classification problems. We will split the dataset into training sets and test sets, and we will select random samples from the dataset to create the subsets of the data, and then we will construct decision trees based on each subset of the data. Moreover, we will be using random forest which is summing up the predictions of the decision trees to predict the output for new data points, hence the popularity status of the games. Then we will evaluate the performance of our random forest algorithm by comparing the predicted output values to the actual output values.\n"
   ]
  },
  {
   "cell_type": "markdown",
   "metadata": {},
   "source": [
    "# Evaluation Metrics\n",
    "\n",
    "The evaluation metric that we chose is the confusion matrix. First, let's define the terms used in a confusion matrix:\n",
    "- True Positive (TP): The model correctly predicts that the game is popular.\n",
    "- False Positive (FP): The model incorrectly predicts that the game is popular.\n",
    "- True Negative (TN): The model correctly predicts that the game is not popular.\n",
    "- False Negative (FN): The model incorrectly predicts that the game is not popular.\n",
    "Using the confusion matrix, we can calculate several performance metrics to evaluate the model.\n",
    "\n",
    "\n",
    "- MSE: MSE stands for Mean Squared Error, it measures the average squared difference between the predicted values and the true values, and it is suitable for evaluating the performance of a regression model.\n",
    "\n",
    "- Accuracy: The proportion of correct predictions made by the model. It is calculated as (TP + TN) / (TP + FP + TN + FN).\n",
    "\n",
    "- Precision: The proportion of positive predictions that are actually true. It is calculated as TP / (TP + FP).\n",
    "\n",
    "- Recall (or Sensitivity): The proportion of actual positives that are correctly identified by the model. It is calculated as TP / (TP + FN).\n",
    "\n",
    "- F1 Score: The harmonic mean of precision and recall. It is calculated as 2 * (Precision * Recall) / (Precision + Recall).\n",
    "\n",
    "From these metrics, if the model has MSE of x, then the predictions are off by √x if  the model has an accuracy of x%, which means that x% of the predictions made by the model are correct. The precision of the model is x%, which means that when the model predicts that a game is popular, it is correct x% of the time. The recall (or sensitivity) of the model is x%, which means that the model correctly identifies x% of the popular games. The F1 Score is x%, which is the harmonic mean of precision and recall, and provides a balanced measure of the model's performance.\n",
    "\n",
    "\n",
    "In this project, we specifically focus on the F1 score, as we learned in the class, the F1 score is used to evaluate the performance of a binary classification model, which fits our model(the intended solution) perfectly, since we are trying to generate a model that could classify the popularity status of a game, and unlike other metrics, F1 scores takes both precision and recall into account, which means it is the most balanced metric among them. This is important in our case, since the false positives and false negatives are equally important. False positives in this case represents the game that is actually not popular but is classified as a popular game, which would increase the potential buyers of the game, and also increase the potential financial loss to the buyers since the game might not be worth buying; and the false negatives indicate that the game is actually a popular game but the model classified it as an unpopular game, which would potentially cause financial loss to the companies since the number of potential buyers would decrease. Therefore, the F1 score would be the best option since it could tell us how the model is performing based on these two factors(FN and FP). \n",
    "\n",
    "\n",
    "In general, a good model should have lower MSE, high accuracy, precision, and recall, and a high F1 Score. However, the choice of which metric to prioritize depends on the specific problem and the costs associated with false positives and false negatives. For example, if the cost of a false positive is higher than the cost of a false negative, then precision may be more important than recall.\n",
    "\n"
   ]
  },
  {
   "cell_type": "markdown",
   "metadata": {},
   "source": [
    "# Preliminary results"
   ]
  },
  {
   "cell_type": "markdown",
   "metadata": {},
   "source": [
    "# Data cleaning and wrangling "
   ]
  },
  {
   "cell_type": "code",
   "execution_count": 1,
   "metadata": {},
   "outputs": [],
   "source": [
    "import pandas as pd\n",
    "import numpy as np\n",
    "import matplotlib.pyplot as plt\n",
    "import seaborn as sns"
   ]
  },
  {
   "cell_type": "code",
   "execution_count": 2,
   "metadata": {},
   "outputs": [],
   "source": [
    "data1 = pd.read_csv('games.csv')\n",
    "data2 = pd.read_csv('steam.csv')\n",
    "df1 = pd.DataFrame(data1)\n",
    "df2 = pd.DataFrame(data2)"
   ]
  },
  {
   "cell_type": "code",
   "execution_count": 3,
   "metadata": {},
   "outputs": [],
   "source": [
    "df1 = df1.dropna()\n",
    "df2 = df2.dropna()\n",
    "df2 = df2.rename(columns={'appid': 'app_id'})"
   ]
  },
  {
   "cell_type": "code",
   "execution_count": 4,
   "metadata": {},
   "outputs": [],
   "source": [
    "# merge two datasets\n",
    "merged_df = pd.merge(df1, df2, on='app_id')"
   ]
  },
  {
   "cell_type": "code",
   "execution_count": 5,
   "metadata": {},
   "outputs": [],
   "source": [
    "df = pd.DataFrame(merged_df)\n",
    "df = df.drop(['app_id','positive_ratio','english','categories','release_date','publisher','developer','genres','title','platforms','achievements','steam_deck','steamspy_tags','price_original','price_final','positive_ratings','negative_ratings'],axis=1)"
   ]
  },
  {
   "cell_type": "code",
   "execution_count": 6,
   "metadata": {},
   "outputs": [],
   "source": [
    "df = df.dropna()"
   ]
  },
  {
   "cell_type": "code",
   "execution_count": 7,
   "metadata": {},
   "outputs": [],
   "source": [
    "name = df.columns[8]\n",
    "\n",
    "# Move the 'name' column to the first position\n",
    "df.insert(0, name, df.pop(name))"
   ]
  },
  {
   "cell_type": "code",
   "execution_count": 8,
   "metadata": {},
   "outputs": [],
   "source": [
    "df['win'] = df['win'].astype(int)\n",
    "df['mac'] = df['mac'].astype(int)\n",
    "df['linux'] = df['linux'].astype(int)"
   ]
  },
  {
   "cell_type": "code",
   "execution_count": 9,
   "metadata": {},
   "outputs": [],
   "source": [
    "df[['min_value', 'max_value']] = df['owners'].str.split('-', expand=True)\n",
    "\n",
    "# Convert columns to numeric type\n",
    "df['min_value'] = pd.to_numeric(df['min_value'])\n",
    "df['max_value'] = pd.to_numeric(df['max_value'])\n",
    "\n",
    "# Calculate average for each row\n",
    "df['owners average'] = (df['min_value'] + df['max_value']) / 2"
   ]
  },
  {
   "cell_type": "code",
   "execution_count": 10,
   "metadata": {},
   "outputs": [],
   "source": [
    "df = df.drop(['name','date_release',\"owners\"],axis=1)"
   ]
  },
  {
   "cell_type": "code",
   "execution_count": 11,
   "metadata": {},
   "outputs": [
    {
     "name": "stdout",
     "output_type": "stream",
     "text": [
      "Mixed                      5419\n",
      "Very Positive              5314\n",
      "Mostly Positive            3541\n",
      "Positive                   2461\n",
      "Mostly Negative             893\n",
      "Overwhelmingly Positive     478\n",
      "Negative                    158\n",
      "Very Negative                26\n",
      "Overwhelmingly Negative       4\n",
      "Name: rating, dtype: int64\n"
     ]
    }
   ],
   "source": [
    "# check how many different values stored in \"rating\" column\n",
    "print(df['rating'].value_counts())"
   ]
  },
  {
   "cell_type": "code",
   "execution_count": 12,
   "metadata": {},
   "outputs": [
    {
     "data": {
      "text/html": [
       "<div>\n",
       "<style scoped>\n",
       "    .dataframe tbody tr th:only-of-type {\n",
       "        vertical-align: middle;\n",
       "    }\n",
       "\n",
       "    .dataframe tbody tr th {\n",
       "        vertical-align: top;\n",
       "    }\n",
       "\n",
       "    .dataframe thead th {\n",
       "        text-align: right;\n",
       "    }\n",
       "</style>\n",
       "<table border=\"1\" class=\"dataframe\">\n",
       "  <thead>\n",
       "    <tr style=\"text-align: right;\">\n",
       "      <th></th>\n",
       "      <th>required_age</th>\n",
       "      <th>win</th>\n",
       "      <th>mac</th>\n",
       "      <th>linux</th>\n",
       "      <th>rating</th>\n",
       "      <th>user_reviews</th>\n",
       "      <th>discount</th>\n",
       "      <th>average_playtime</th>\n",
       "      <th>median_playtime</th>\n",
       "      <th>price</th>\n",
       "      <th>min_value</th>\n",
       "      <th>max_value</th>\n",
       "      <th>owners average</th>\n",
       "    </tr>\n",
       "  </thead>\n",
       "  <tbody>\n",
       "    <tr>\n",
       "      <th>0</th>\n",
       "      <td>16</td>\n",
       "      <td>1</td>\n",
       "      <td>0</td>\n",
       "      <td>0</td>\n",
       "      <td>1</td>\n",
       "      <td>37039</td>\n",
       "      <td>0.0</td>\n",
       "      <td>2331</td>\n",
       "      <td>1108</td>\n",
       "      <td>19.99</td>\n",
       "      <td>1000000</td>\n",
       "      <td>2000000</td>\n",
       "      <td>1500000.0</td>\n",
       "    </tr>\n",
       "    <tr>\n",
       "      <th>1</th>\n",
       "      <td>0</td>\n",
       "      <td>1</td>\n",
       "      <td>0</td>\n",
       "      <td>0</td>\n",
       "      <td>1</td>\n",
       "      <td>2199</td>\n",
       "      <td>0.0</td>\n",
       "      <td>307</td>\n",
       "      <td>312</td>\n",
       "      <td>8.59</td>\n",
       "      <td>200000</td>\n",
       "      <td>500000</td>\n",
       "      <td>350000.0</td>\n",
       "    </tr>\n",
       "    <tr>\n",
       "      <th>2</th>\n",
       "      <td>0</td>\n",
       "      <td>1</td>\n",
       "      <td>1</td>\n",
       "      <td>1</td>\n",
       "      <td>1</td>\n",
       "      <td>3722</td>\n",
       "      <td>0.0</td>\n",
       "      <td>183</td>\n",
       "      <td>135</td>\n",
       "      <td>10.99</td>\n",
       "      <td>2000000</td>\n",
       "      <td>5000000</td>\n",
       "      <td>3500000.0</td>\n",
       "    </tr>\n",
       "    <tr>\n",
       "      <th>3</th>\n",
       "      <td>16</td>\n",
       "      <td>1</td>\n",
       "      <td>0</td>\n",
       "      <td>0</td>\n",
       "      <td>0</td>\n",
       "      <td>873</td>\n",
       "      <td>0.0</td>\n",
       "      <td>0</td>\n",
       "      <td>0</td>\n",
       "      <td>10.99</td>\n",
       "      <td>50000</td>\n",
       "      <td>100000</td>\n",
       "      <td>75000.0</td>\n",
       "    </tr>\n",
       "    <tr>\n",
       "      <th>4</th>\n",
       "      <td>0</td>\n",
       "      <td>1</td>\n",
       "      <td>1</td>\n",
       "      <td>0</td>\n",
       "      <td>1</td>\n",
       "      <td>8784</td>\n",
       "      <td>0.0</td>\n",
       "      <td>648</td>\n",
       "      <td>295</td>\n",
       "      <td>8.99</td>\n",
       "      <td>500000</td>\n",
       "      <td>1000000</td>\n",
       "      <td>750000.0</td>\n",
       "    </tr>\n",
       "    <tr>\n",
       "      <th>...</th>\n",
       "      <td>...</td>\n",
       "      <td>...</td>\n",
       "      <td>...</td>\n",
       "      <td>...</td>\n",
       "      <td>...</td>\n",
       "      <td>...</td>\n",
       "      <td>...</td>\n",
       "      <td>...</td>\n",
       "      <td>...</td>\n",
       "      <td>...</td>\n",
       "      <td>...</td>\n",
       "      <td>...</td>\n",
       "      <td>...</td>\n",
       "    </tr>\n",
       "    <tr>\n",
       "      <th>18289</th>\n",
       "      <td>0</td>\n",
       "      <td>1</td>\n",
       "      <td>0</td>\n",
       "      <td>0</td>\n",
       "      <td>0</td>\n",
       "      <td>114</td>\n",
       "      <td>0.0</td>\n",
       "      <td>0</td>\n",
       "      <td>0</td>\n",
       "      <td>0.00</td>\n",
       "      <td>0</td>\n",
       "      <td>20000</td>\n",
       "      <td>10000.0</td>\n",
       "    </tr>\n",
       "    <tr>\n",
       "      <th>18290</th>\n",
       "      <td>0</td>\n",
       "      <td>1</td>\n",
       "      <td>0</td>\n",
       "      <td>0</td>\n",
       "      <td>0</td>\n",
       "      <td>11</td>\n",
       "      <td>50.0</td>\n",
       "      <td>0</td>\n",
       "      <td>0</td>\n",
       "      <td>5.79</td>\n",
       "      <td>0</td>\n",
       "      <td>20000</td>\n",
       "      <td>10000.0</td>\n",
       "    </tr>\n",
       "    <tr>\n",
       "      <th>18291</th>\n",
       "      <td>0</td>\n",
       "      <td>1</td>\n",
       "      <td>0</td>\n",
       "      <td>0</td>\n",
       "      <td>0</td>\n",
       "      <td>88</td>\n",
       "      <td>0.0</td>\n",
       "      <td>0</td>\n",
       "      <td>0</td>\n",
       "      <td>0.00</td>\n",
       "      <td>0</td>\n",
       "      <td>20000</td>\n",
       "      <td>10000.0</td>\n",
       "    </tr>\n",
       "    <tr>\n",
       "      <th>18292</th>\n",
       "      <td>0</td>\n",
       "      <td>1</td>\n",
       "      <td>1</td>\n",
       "      <td>1</td>\n",
       "      <td>0</td>\n",
       "      <td>167</td>\n",
       "      <td>0.0</td>\n",
       "      <td>9</td>\n",
       "      <td>9</td>\n",
       "      <td>0.00</td>\n",
       "      <td>50000</td>\n",
       "      <td>100000</td>\n",
       "      <td>75000.0</td>\n",
       "    </tr>\n",
       "    <tr>\n",
       "      <th>18293</th>\n",
       "      <td>0</td>\n",
       "      <td>1</td>\n",
       "      <td>0</td>\n",
       "      <td>0</td>\n",
       "      <td>1</td>\n",
       "      <td>87</td>\n",
       "      <td>0.0</td>\n",
       "      <td>0</td>\n",
       "      <td>0</td>\n",
       "      <td>0.00</td>\n",
       "      <td>0</td>\n",
       "      <td>20000</td>\n",
       "      <td>10000.0</td>\n",
       "    </tr>\n",
       "  </tbody>\n",
       "</table>\n",
       "<p>18294 rows × 13 columns</p>\n",
       "</div>"
      ],
      "text/plain": [
       "       required_age  win  mac  linux  rating  user_reviews  discount  \\\n",
       "0                16    1    0      0       1         37039       0.0   \n",
       "1                 0    1    0      0       1          2199       0.0   \n",
       "2                 0    1    1      1       1          3722       0.0   \n",
       "3                16    1    0      0       0           873       0.0   \n",
       "4                 0    1    1      0       1          8784       0.0   \n",
       "...             ...  ...  ...    ...     ...           ...       ...   \n",
       "18289             0    1    0      0       0           114       0.0   \n",
       "18290             0    1    0      0       0            11      50.0   \n",
       "18291             0    1    0      0       0            88       0.0   \n",
       "18292             0    1    1      1       0           167       0.0   \n",
       "18293             0    1    0      0       1            87       0.0   \n",
       "\n",
       "       average_playtime  median_playtime  price  min_value  max_value  \\\n",
       "0                  2331             1108  19.99    1000000    2000000   \n",
       "1                   307              312   8.59     200000     500000   \n",
       "2                   183              135  10.99    2000000    5000000   \n",
       "3                     0                0  10.99      50000     100000   \n",
       "4                   648              295   8.99     500000    1000000   \n",
       "...                 ...              ...    ...        ...        ...   \n",
       "18289                 0                0   0.00          0      20000   \n",
       "18290                 0                0   5.79          0      20000   \n",
       "18291                 0                0   0.00          0      20000   \n",
       "18292                 9                9   0.00      50000     100000   \n",
       "18293                 0                0   0.00          0      20000   \n",
       "\n",
       "       owners average  \n",
       "0           1500000.0  \n",
       "1            350000.0  \n",
       "2           3500000.0  \n",
       "3             75000.0  \n",
       "4            750000.0  \n",
       "...               ...  \n",
       "18289         10000.0  \n",
       "18290         10000.0  \n",
       "18291         10000.0  \n",
       "18292         75000.0  \n",
       "18293         10000.0  \n",
       "\n",
       "[18294 rows x 13 columns]"
      ]
     },
     "execution_count": 12,
     "metadata": {},
     "output_type": "execute_result"
    }
   ],
   "source": [
    "df['rating'] = df['rating'].apply(lambda x: 1 if x in [\"Very Positive\", \"Overwhelmingly Positive\"] else 0)\n",
    "\n",
    "# Print the first 10 rows of the dataframe with the new binary target variable\n",
    "df"
   ]
  },
  {
   "cell_type": "code",
   "execution_count": 33,
   "metadata": {},
   "outputs": [
    {
     "data": {
      "text/plain": [
       "Text(0.5, 1.0, 'Popularity of game rating')"
      ]
     },
     "execution_count": 33,
     "metadata": {},
     "output_type": "execute_result"
    },
    {
     "data": {
      "image/png": "[encoded data removed]",
      "text/plain": [
       "<Figure size 432x288 with 1 Axes>"
      ]
     },
     "metadata": {
      "needs_background": "light"
     },
     "output_type": "display_data"
    }
   ],
   "source": [
    "sns.countplot(data=df, x=\"rating\")\n",
    "plt.title('Popularity of game rating')"
   ]
  },
  {
   "cell_type": "markdown",
   "metadata": {},
   "source": [
    "# Model Selection"
   ]
  },
  {
   "cell_type": "code",
   "execution_count": 14,
   "metadata": {},
   "outputs": [],
   "source": [
    "from sklearn.model_selection import train_test_split\n",
    "from sklearn.linear_model import LinearRegression, LogisticRegression\n",
    "from sklearn.ensemble import RandomForestClassifier\n",
    "from sklearn.neighbors import KNeighborsClassifier\n",
    "from sklearn.tree import DecisionTreeClassifier\n",
    "from sklearn.svm import SVC\n",
    "from sklearn.metrics import roc_curve, roc_auc_score, auc\n",
    "from sklearn.metrics import ConfusionMatrixDisplay, confusion_matrix\n",
    "from sklearn.metrics import accuracy_score, precision_score, recall_score, f1_score\n",
    "from sklearn.model_selection import KFold\n",
    "from sklearn.model_selection import cross_val_score\n",
    "from sklearn.pipeline import make_pipeline\n",
    "from sklearn.model_selection import GridSearchCV, RepeatedKFold\n",
    "from sklearn.metrics import mean_absolute_error, mean_squared_error, r2_score\n",
    "from sklearn.preprocessing import StandardScaler\n",
    "from sklearn.metrics import precision_recall_curve\n",
    "from sklearn.model_selection import validation_curve\n"
   ]
  },
  {
   "cell_type": "code",
   "execution_count": 15,
   "metadata": {},
   "outputs": [],
   "source": [
    "X = df.drop('rating',axis=1) # input features\n",
    "y = df[\"rating\"] # target variable\n",
    "\n",
    "X_train, X_test, y_train, y_test = train_test_split(X, y, test_size=0.2, random_state=42)\n"
   ]
  },
  {
   "cell_type": "markdown",
   "metadata": {},
   "source": [
    "# Logistic Regression Classifier With Evaluation Metric"
   ]
  },
  {
   "cell_type": "code",
   "execution_count": 16,
   "metadata": {},
   "outputs": [
    {
     "name": "stdout",
     "output_type": "stream",
     "text": [
      "Model score: 0.720\n"
     ]
    }
   ],
   "source": [
    "lr = LogisticRegression(C=1, random_state=0, penalty='l2')\n",
    "lr.fit(X_train, y_train)\n",
    "score = lr.score(X_test, y_test)\n",
    "print(\"Model score: {:.3f}\".format(score))"
   ]
  },
  {
   "cell_type": "code",
   "execution_count": 17,
   "metadata": {},
   "outputs": [
    {
     "name": "stdout",
     "output_type": "stream",
     "text": [
      "Accuracy: 0.7195955179010659\n",
      "Precision: 0.56353591160221\n",
      "Recall: 0.4469763365468887\n",
      "F1 score: 0.49853372434017595\n"
     ]
    },
    {
     "data": {
      "image/png": "[encoded data removed]",
      "text/plain": [
       "<Figure size 432x288 with 2 Axes>"
      ]
     },
     "metadata": {
      "needs_background": "light"
     },
     "output_type": "display_data"
    }
   ],
   "source": [
    "# Generate the confusion matrix\n",
    "\n",
    "y_pred_train = lr.predict(X_train)\n",
    "y_pred_test = lr.predict(X_test)\n",
    "\n",
    "cm = confusion_matrix(y_test, y_pred_test)\n",
    "\n",
    "\n",
    "disp = ConfusionMatrixDisplay(cm);\n",
    "disp.plot()\n",
    "\n",
    "accuracy = accuracy_score(y_test, y_pred_test)\n",
    "print('Accuracy:', accuracy)\n",
    "\n",
    "# Calculate precision\n",
    "precision = precision_score(y_test, y_pred_test)\n",
    "print('Precision:', precision)\n",
    "\n",
    "# Calculate recall\n",
    "recall = recall_score(y_test, y_pred_test)\n",
    "print('Recall:', recall)\n",
    "\n",
    "# Calculate F1 score\n",
    "f1 = f1_score(y_test, y_pred_test)\n",
    "print('F1 score:', f1)"
   ]
  },
  {
   "cell_type": "code",
   "execution_count": 18,
   "metadata": {},
   "outputs": [
    {
     "name": "stdout",
     "output_type": "stream",
     "text": [
      "Scores for each fold: [0.05098616 0.04268493 0.04400776]\n",
      "Mean score: 0.0458929515252802\n",
      "Standard deviation: 0.0036417073065404576\n"
     ]
    }
   ],
   "source": [
    "num_folds = 3\n",
    "\n",
    "# Define the model to use\n",
    "model = LinearRegression()\n",
    "\n",
    "# Define the cross-validation method\n",
    "cv = KFold(n_splits=num_folds, shuffle=True, random_state=42)\n",
    "\n",
    "# Evaluate the model using cross-validation\n",
    "scores = cross_val_score(model, X, y, cv=cv)\n",
    "\n",
    "# Print the scores for each fold\n",
    "print(\"Scores for each fold:\", scores)\n",
    "\n",
    "# Print the mean and standard deviation of the scores\n",
    "print(\"Mean score:\", np.mean(scores))\n",
    "print(\"Standard deviation:\", np.std(scores))"
   ]
  },
  {
   "cell_type": "code",
   "execution_count": 19,
   "metadata": {},
   "outputs": [
    {
     "name": "stdout",
     "output_type": "stream",
     "text": [
      "ROC AUC score: 0.7585190310744236\n"
     ]
    },
    {
     "data": {
      "image/png": "[encoded data removed]",
      "text/plain": [
       "<Figure size 432x288 with 1 Axes>"
      ]
     },
     "metadata": {
      "needs_background": "light"
     },
     "output_type": "display_data"
    }
   ],
   "source": [
    "y_scores = lr.predict_proba(X_test)[:, 1]\n",
    "roc_auc = roc_auc_score(y_test, y_scores)\n",
    "fpr, tpr, thresholds = roc_curve(y_test, y_scores)\n",
    "print('ROC AUC score:', roc_auc)\n",
    "\n",
    "plt.plot(fpr, tpr, color='skyblue', lw=2, label='ROC curve (AUC = %0.2f)' % roc_auc)\n",
    "plt.plot([0, 1], [0, 1], color='gray', lw=2, linestyle='--')\n",
    "plt.xlabel('False Positive Rate')\n",
    "plt.ylabel('True Positive Rate')\n",
    "plt.title(' ROC Curve')\n",
    "plt.legend(loc=\"lower right\")\n",
    "plt.show()"
   ]
  },
  {
   "cell_type": "code",
   "execution_count": 20,
   "metadata": {},
   "outputs": [
    {
     "data": {
      "image/png": "[encoded data removed]",
      "text/plain": [
       "<Figure size 432x288 with 1 Axes>"
      ]
     },
     "metadata": {
      "needs_background": "light"
     },
     "output_type": "display_data"
    }
   ],
   "source": [
    "precision, recall, thresholds = precision_recall_curve(y_test, y_scores)\n",
    "\n",
    "auc_score = auc(recall, precision)\n",
    "\n",
    "# Plot the precision-recall curve\n",
    "plt.plot(recall, precision, color='skyblue', lw=2, label='PR curve (AUC = %0.2f)' % auc_score)\n",
    "plt.xlabel('Recall')\n",
    "plt.ylabel('Precision')\n",
    "plt.title('Precision-Recall Curve')\n",
    "plt.legend(loc=\"upper right\")\n",
    "plt.show()\n"
   ]
  },
  {
   "cell_type": "markdown",
   "metadata": {},
   "source": [
    "# Random Forest Classifier With Evaluation Metric"
   ]
  },
  {
   "cell_type": "code",
   "execution_count": 21,
   "metadata": {},
   "outputs": [],
   "source": [
    "rf = RandomForestClassifier(n_estimators=100, random_state=42)\n",
    "# Train the model using the training sets\n",
    "rf.fit(X_train, y_train)\n",
    "# Make predictions on the test data\n",
    "y_pred = rf.predict(X_test)"
   ]
  },
  {
   "cell_type": "code",
   "execution_count": 22,
   "metadata": {},
   "outputs": [
    {
     "name": "stdout",
     "output_type": "stream",
     "text": [
      "Accuracy: 0.7786280404482099\n",
      "Precision: 0.6430423509075195\n",
      "Recall: 0.6520595968448729\n",
      "F1 score: 0.6475195822454308\n"
     ]
    }
   ],
   "source": [
    "y_pred_train = rf.predict(X_train)\n",
    "y_pred_test = rf.predict(X_test)\n",
    "\n",
    "accuracy = accuracy_score(y_test, y_pred_test)\n",
    "print('Accuracy:', accuracy)\n",
    "\n",
    "# Calculate precision\n",
    "precision = precision_score(y_test, y_pred_test)\n",
    "print('Precision:', precision)\n",
    "\n",
    "# Calculate recall\n",
    "recall = recall_score(y_test, y_pred_test)\n",
    "print('Recall:', recall)\n",
    "\n",
    "# Calculate F1 score\n",
    "f1 = f1_score(y_test, y_pred_test)\n",
    "print('F1 score:', f1)"
   ]
  },
  {
   "cell_type": "code",
   "execution_count": 23,
   "metadata": {},
   "outputs": [
    {
     "name": "stdout",
     "output_type": "stream",
     "text": [
      "ROC AUC score: 0.8577411785016418\n"
     ]
    },
    {
     "data": {
      "image/png": "[encoded data removed]",
      "text/plain": [
       "<Figure size 432x288 with 1 Axes>"
      ]
     },
     "metadata": {
      "needs_background": "light"
     },
     "output_type": "display_data"
    }
   ],
   "source": [
    "y_scores = rf.predict_proba(X_test)[:, 1]\n",
    "roc_auc = roc_auc_score(y_test, y_scores)\n",
    "fpr, tpr, thresholds = roc_curve(y_test, y_scores)\n",
    "print('ROC AUC score:', roc_auc)\n",
    "plt.plot(fpr, tpr)\n",
    "plt.xlabel('False Positive Rate')\n",
    "plt.ylabel('True Positive Rate')\n",
    "plt.title('ROC Curve')\n",
    "plt.show()"
   ]
  },
  {
   "cell_type": "markdown",
   "metadata": {},
   "source": [
    "#  k-Nearest Neighbors (kNN) algorithm"
   ]
  },
  {
   "cell_type": "code",
   "execution_count": 24,
   "metadata": {},
   "outputs": [],
   "source": [
    "knn = KNeighborsClassifier(n_neighbors=9)\n",
    "knn.fit(X_train, y_train)\n",
    "# prediction\n",
    "y_pred = knn.predict(X_test)"
   ]
  },
  {
   "cell_type": "code",
   "execution_count": 25,
   "metadata": {},
   "outputs": [
    {
     "name": "stdout",
     "output_type": "stream",
     "text": [
      "Accuracy: 0.7682426892593605\n",
      "Precision: 0.6195918367346939\n",
      "Recall: 0.6652059596844873\n",
      "F1 score: 0.6415891800507185\n"
     ]
    }
   ],
   "source": [
    "y_pred_train = knn.predict(X_train)\n",
    "y_pred_test = knn.predict(X_test)\n",
    "\n",
    "accuracy = accuracy_score(y_test, y_pred_test)\n",
    "print('Accuracy:', accuracy)\n",
    "\n",
    "# Calculate precision\n",
    "precision = precision_score(y_test, y_pred_test)\n",
    "print('Precision:', precision)\n",
    "\n",
    "# Calculate recall\n",
    "recall = recall_score(y_test, y_pred_test)\n",
    "print('Recall:', recall)\n",
    "\n",
    "# Calculate F1 score\n",
    "f1 = f1_score(y_test, y_pred_test)\n",
    "print('F1 score:', f1)"
   ]
  },
  {
   "cell_type": "code",
   "execution_count": 26,
   "metadata": {},
   "outputs": [
    {
     "name": "stdout",
     "output_type": "stream",
     "text": [
      "ROC AUC score: 0.8513942384333237\n"
     ]
    },
    {
     "data": {
      "image/png": "[encoded data removed]",
      "text/plain": [
       "<Figure size 432x288 with 1 Axes>"
      ]
     },
     "metadata": {
      "needs_background": "light"
     },
     "output_type": "display_data"
    }
   ],
   "source": [
    "y_scores = knn.predict_proba(X_test)[:, 1]\n",
    "roc_auc = roc_auc_score(y_test, y_scores)\n",
    "fpr, tpr, thresholds = roc_curve(y_test, y_scores)\n",
    "print('ROC AUC score:', roc_auc)\n",
    "plt.plot(fpr, tpr)\n",
    "plt.xlabel('False Positive Rate')\n",
    "plt.ylabel('True Positive Rate')\n",
    "plt.title('ROC Curve')\n",
    "plt.show()"
   ]
  },
  {
   "cell_type": "code",
   "execution_count": 32,
   "metadata": {},
   "outputs": [
    {
     "data": {
      "image/png": "[encoded data removed]",
      "text/plain": [
       "<Figure size 720x432 with 1 Axes>"
      ]
     },
     "metadata": {
      "needs_background": "light"
     },
     "output_type": "display_data"
    }
   ],
   "source": [
    "p_range = [1,5,10,100]\n",
    "train_scores, test_scores = validation_curve(KNeighborsClassifier(), X_train, y_train, \n",
    "                                             param_name=\"n_neighbors\", \n",
    "                                             param_range= p_range)\n",
    "\n",
    "plt.figure(figsize=(10, 6))\n",
    "plt.title(\"KNN Validation Curve\")\n",
    "plt.xlabel(\"K\")\n",
    "plt.ylabel(\"Accuracy\")\n",
    "plt.xticks(p_range)\n",
    "plt.plot(p_range, np.median(train_scores, 1), color='blue', label='training score')\n",
    "plt.plot(p_range, np.median(test_scores, 1), color='red', label='validation score')\n",
    "plt.legend(loc=\"best\")\n",
    "plt.show()"
   ]
  },
  {
   "cell_type": "code",
   "execution_count": 34,
   "metadata": {},
   "outputs": [
    {
     "name": "stdout",
     "output_type": "stream",
     "text": [
      "Accuracy: 0.7518447663295983\n"
     ]
    }
   ],
   "source": [
    "dt = DecisionTreeClassifier(random_state=42)\n",
    "\n",
    "# Train the model using the training sets\n",
    "dt.fit(X_train, y_train)\n",
    "\n",
    "# Make predictions on the test data\n",
    "y_pred = dt.predict(X_test)\n",
    "\n",
    "# Evaluate the accuracy of the model\n",
    "accuracy = accuracy_score(y_test, y_pred)\n",
    "print(\"Accuracy:\", accuracy)"
   ]
  },
  {
   "cell_type": "code",
   "execution_count": null,
   "metadata": {},
   "outputs": [],
   "source": [
    "svm = SVC(kernel='linear', C=1, random_state=42)\n",
    "svm.fit(X_train, y_train)\n",
    "# Make predictions on the test data\n",
    "y_pred = svm.predict(X_test)\n",
    "# Evaluate the accuracy of the model\n",
    "accuracy = accuracy_score(y_test, y_pred)\n",
    "print(\"Accuracy:\", accuracy)"
   ]
  },
  {
   "cell_type": "markdown",
   "metadata": {},
   "source": [
    "- Compared to the results shown above, we observed that the random forest and K-neighbor algorithms produce similar ROC curves, and both perform better than the curve generated by the K-Fold algorithm. The ROC curve generated by the K-Fold algorithm has a lower trade-off (AUC Score: 0.76) between its TPR (True Positive Rate) and FPR (False Positive Rate), indicating inconsistency across different threshold values. Between the random forest and K-neighbor algorithms, the random forest model has better accuracy (0.778) and F-1 score (0.647) compared to the K-neighbor model, despite the other results being quite similar. Therefore, we have selected the random forest algorithm as the optimal choice for our project.\n"
   ]
  },
  {
   "cell_type": "markdown",
   "metadata": {},
   "source": [
    "# Ethics & Privacy"
   ]
  },
  {
   "cell_type": "markdown",
   "metadata": {},
   "source": [
    "1. All data used in this project are collected and stored through a publicly accessible way from Kaggle official users.\n",
    "\n",
    "2. All data will be only used for the purpose of this project, and will not be used for other private offended purposes.\n",
    "\n",
    "3. We will minimize the harmful consequences concerning any potential bias or impacting on any specific race group or individuals because we ensure that no particular names or races or religion stuff will show in our data or project.\n",
    "\n",
    "4. Any potential conflict of interest will be disclosed and we tried to take special attention on the topics such as nationality, religion, or ethnicity. However, we are going to analyze the game from different producers. But we will try to point out any arbitrary variables that will influence our predicting results and analysis\n"
   ]
  },
  {
   "cell_type": "markdown",
   "metadata": {},
   "source": [
    "# Team Expectations "
   ]
  },
  {
   "cell_type": "markdown",
   "metadata": {},
   "source": [
    "- Have group meetings every week, make clear deadlines, and update the progress\n",
    "- Express opinions and listen actively to each other\n",
    "- Reach consensus that everyone agrees with\n",
    "- Ensure everyone contributing equally\n",
    "- Respect the diversity among culture, background, and personal beliefs\n",
    "- Properly illustrate the learning outcome from inner course material and individual study\n",
    "- Finish a project that makes everyone proud of\n",
    "- Always following the academic integrity rules set by both the department and the instructional team"
   ]
  },
  {
   "cell_type": "markdown",
   "metadata": {},
   "source": [
    "# Project Timeline Proposal"
   ]
  },
  {
   "cell_type": "markdown",
   "metadata": {},
   "source": [
    "| Meeting Date  | Meeting Time| Completed Before Meeting  | Discuss at Meeting |\n",
    "|---|---|---|---|\n",
    "| 2/20  |  7 PM |  Brainstorm topics/questions (all)  | Discuss through Wechat group; discuss and decide on final project topic; find applicable datasets; begin background research | \n",
    "| 2/21  |  7 AM | Determine the datasets and assign task to group members (all) | Choose a topic and discuss what to write in each section| \n",
    "| 2/22  | 7 AM  | Revise, finalize, combine and submit proposal(all) | Double check every section and start to discuss data Wrangling|\n",
    "| 3/6  | 6 PM  | Import & Wrangle Data ,do some EDA (Maggie&Sikai) | Edit wrangling/EDA; discuss analytical approaches and models  |\n",
    "| 3/7  | 6 PM  | Finalize wrangling/EDA; Begin programming for project (Chenxi) | Discuss and edit project code part; discuss results section |\n",
    "| 3/14  | 6 PM  | Finish coding part; start on results,conclusion, and discussion (Jialong&Jinyi)| Write draft for those three parts and edit full project |\n",
    "| 3/20  | Before 11:59 PM  | Turn in Final Project | Combine sections together and double check  |"
   ]
  },
  {
   "cell_type": "markdown",
   "metadata": {},
   "source": [
    "# Footnotes\n",
    "1.^: Industry market research, reports, and Statistics (no date) IBISWorld. Available at: https://www.ibisworld.com/industry-statistics/market-size/video-games-united-states/#:~:text=The%20market%20size%2C%20measured%20by,to%20increase%209.4%25%20in%202023 (Accessed: February 22, 2023).\n",
    "\n",
    "2.^: Kaisersays:, Milagros. “Gaming Statistics 2023.” TrueList, 9 Jan. 2023, https://truelist.co/blog/gaming-statistics/ (Accessed: February 22, 2023).\n",
    "\n",
    "3.^: Kaisersays:, Milagros. “Gaming Statistics 2023.” TrueList, 9 Jan. 2023, https://truelist.co/blog/gaming-statistics/ (Accessed: February 22, 2023).\n",
    "\n",
    "4.^: Elad, Barry. “25+ Steam Statistics 2022 Users, Most Played Games and Market Share.” Enterprise Apps Today, 15 Aug. 2022, https://www.enterpriseappstoday.com/stats/steam-statistics.html#:~:text=Steam%20accounts%20for%2050%25%20to,20%20million%20gamers%20every%20day (Accessed: February 22, 2023)\n",
    "\n",
    "5.^: Michal Trněný, \"Machine Learning for Predicting Success of Video Games.\" Spring 2017, \n",
    " https://is.muni.cz/th/k2c5b/diploma_thesis_trneny.pdf  (Accessed: March 8, 2023)\n",
    "\n"
   ]
  }
 ],
 "metadata": {
  "kernelspec": {
   "display_name": "Python 3 (ipykernel)",
   "language": "python",
   "name": "python3"
  },
  "language_info": {
   "codemirror_mode": {
    "name": "ipython",
    "version": 3
   },
   "file_extension": ".py",
   "mimetype": "text/x-python",
   "name": "python",
   "nbconvert_exporter": "python",
   "pygments_lexer": "ipython3",
   "version": "3.9.5"
  }
 },
 "nbformat": 4,
 "nbformat_minor": 2
}
